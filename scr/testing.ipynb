{
 "metadata": {
  "language_info": {
   "codemirror_mode": {
    "name": "ipython",
    "version": 3
   },
   "file_extension": ".py",
   "mimetype": "text/x-python",
   "name": "python",
   "nbconvert_exporter": "python",
   "pygments_lexer": "ipython3",
   "version": "3.8.0-final"
  },
  "orig_nbformat": 2,
  "kernelspec": {
   "name": "python38064bitterminologycondaef931532d8e947c7a884074a14664a41",
   "display_name": "Python 3.8.0 64-bit ('terminology': conda)"
  }
 },
 "nbformat": 4,
 "nbformat_minor": 2,
 "cells": [
  {
   "cell_type": "code",
   "execution_count": 1,
   "metadata": {},
   "outputs": [],
   "source": [
    "from flair.data import Sentence\n",
    "from flair.models import SequenceTagger\n",
    "from rule_based_wrapper import *"
   ]
  },
  {
   "cell_type": "code",
   "execution_count": 2,
   "metadata": {},
   "outputs": [],
   "source": [
    "# case study text (never seen by none of the taggers)\n",
    "\n",
    "text = '''The purpose of this study was to determine the effects of the timing of the Breaststroke kick on intra-cyclic velocity fluctuations. Researchers examined peak hip velocities of Breaststroke swimmers to determine any significant velocity drop-offs and magnitude of velocity regained between different kicking techniques. Subjects performed swimming trials with three different kick protocols: a conventional kick, a late kick, and a delayed late kick. Video analysis was used to analyze peak and minimum hip velocities within one Breaststroke cycle for each trial. Data was analyzed using ANOVA repeated measures analysis. Major findings of this study were that due to smaller percentages of hip velocity drop-off, greater swimming efficiency may be achieved when the kick is initiated during the insweep or early recovery arm phases and that video analysis and verbal cueing are viable tools to help swimmers improve their regular stroke technique.'''"
   ]
  },
  {
   "cell_type": "code",
   "execution_count": 3,
   "metadata": {},
   "outputs": [
    {
     "output_type": "stream",
     "name": "stdout",
     "text": [
      "2020-11-21 20:29:29,091 loading file ../resources/taggers/bio-term-tagger/best-model.pt\n"
     ]
    }
   ],
   "source": [
    "path_to_model = '../resources/taggers/bio-term-tagger/best-model.pt' # To be adapted\n",
    "\n",
    "# loading the model\n",
    "model = SequenceTagger.load(path_to_model)\n",
    "\n",
    "# prepare case study text\n",
    "sentence = Sentence(text)\n",
    "\n",
    "# predict tags and print\n",
    "model.predict(sentence)"
   ]
  },
  {
   "cell_type": "code",
   "execution_count": 4,
   "metadata": {},
   "outputs": [
    {
     "output_type": "stream",
     "name": "stdout",
     "text": [
      "The purpose of this study was to determine the effects of the timing of the Breaststroke <B> kick <I> on intra-cyclic velocity <B> fluctuations . Researchers examined peak hip velocities <B> of Breaststroke <B> swimmers <I> to determine any significant velocity <B> drop-offs and magnitude of velocity <B> regained between different kicking techniques . Subjects performed swimming trials with three different kick protocols : a conventional kick , a late kick , and a delayed late kick . Video analysis was used to analyze peak and minimum hip velocities <B> within one Breaststroke <B> cycle for each trial . Data was analyzed using ANOVA repeated measures analysis . Major <B> findings <I> of this study were that due to smaller percentages of hip velocity <B> drop-off , greater swimming efficiency may be achieved when the kick is initiated during the insweep <B> or early recovery arm phases and that video analysis and verbal cueing are viable tools to help swimmers improve their regular stroke <B> technique <I> .\n"
     ]
    }
   ],
   "source": [
    "## RULE-BASED TAGGER RESULTS\n",
    "\n",
    "print(rule_based_tagger(text))"
   ]
  },
  {
   "cell_type": "code",
   "execution_count": 5,
   "metadata": {},
   "outputs": [
    {
     "output_type": "stream",
     "name": "stdout",
     "text": [
      "The purpose of this study was to determine the effects of the timing of the Breaststroke <B> kick <I> on intra-cyclic velocity <B> fluctuations <I> . Researchers examined peak <B> hip <I> velocities <I> of Breaststroke <B> swimmers <I> to determine any significant <B> velocity <I> drop-offs and magnitude <B> of <I> velocity <I> regained between different kicking techniques . Subjects performed swimming <B> trials <I> with three different kick <B> protocols <I> : a conventional kick , a late kick , and a delayed late kick . Video analysis was used to analyze peak and minimum hip <B> velocities <I> within one Breaststroke <B> cycle <I> for each trial . Data was analyzed using ANOVA repeated measures analysis . Major findings of this study were that due to smaller percentages of hip <B> velocity <I> drop-off , greater swimming <B> efficiency <I> may be achieved when the kick is initiated during the insweep <B> or early recovery <B> arm <I> phases <I> and that video analysis and verbal cueing are viable tools to help swimmers improve their regular <B> stroke <I> technique <I> .\n"
     ]
    }
   ],
   "source": [
    "## NEURAL TAGGER RESULTS\n",
    "\n",
    "print(sentence.to_tagged_string())"
   ]
  },
  {
   "cell_type": "code",
   "execution_count": null,
   "metadata": {},
   "outputs": [],
   "source": []
  }
 ]
}