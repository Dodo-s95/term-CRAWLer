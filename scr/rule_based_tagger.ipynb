{
 "metadata": {
  "language_info": {
   "codemirror_mode": {
    "name": "ipython",
    "version": 3
   },
   "file_extension": ".py",
   "mimetype": "text/x-python",
   "name": "python",
   "nbconvert_exporter": "python",
   "pygments_lexer": "ipython3",
   "version": "3.8.0-final"
  },
  "orig_nbformat": 2,
  "kernelspec": {
   "name": "python38064bitterminologycondaef931532d8e947c7a884074a14664a41",
   "display_name": "Python 3.8.0 64-bit ('terminology': conda)"
  }
 },
 "nbformat": 4,
 "nbformat_minor": 2,
 "cells": [
  {
   "cell_type": "code",
   "execution_count": 1,
   "metadata": {},
   "outputs": [],
   "source": [
    "import spacy\n",
    "import csv\n",
    "import pandas as pd\n",
    "import glob\n",
    "\n",
    "from spacy.lang.char_classes import ALPHA, ALPHA_LOWER, ALPHA_UPPER\n",
    "from spacy.lang.char_classes import CONCAT_QUOTES, LIST_ELLIPSES, LIST_ICONS\n",
    "from spacy.util import compile_infix_regex\n",
    "\n",
    "from numpy import nan"
   ]
  },
  {
   "cell_type": "code",
   "execution_count": 2,
   "metadata": {},
   "outputs": [],
   "source": [
    "nlp = spacy.load(\"en_core_web_sm\")\n",
    "\n",
    "# modify tokenizer infix patterns for avoiding hyphenated words being split (several terms are hyphenated)\n",
    "\n",
    "infixes = (\n",
    "    LIST_ELLIPSES\n",
    "    + LIST_ICONS\n",
    "    + [\n",
    "        r\"(?<=[0-9])[+\\-\\*^](?=[0-9-])\",\n",
    "        r\"(?<=[{al}{q}])\\.(?=[{au}{q}])\".format(\n",
    "            al=ALPHA_LOWER, au=ALPHA_UPPER, q=CONCAT_QUOTES\n",
    "        ),\n",
    "        r\"(?<=[{a}]),(?=[{a}])\".format(a=ALPHA),\n",
    "        r\"(?<=[{a}0-9])[:<>=/](?=[{a}])\".format(a=ALPHA),\n",
    "    ]\n",
    ")\n",
    "\n",
    "infix_re = compile_infix_regex(infixes)\n",
    "nlp.tokenizer.infix_finditer = infix_re.finditer"
   ]
  },
  {
   "cell_type": "code",
   "execution_count": 3,
   "metadata": {},
   "outputs": [],
   "source": [
    "def read_tsv(link):\n",
    "    with open(link, \"r\", encoding=\"utf-8\") as tsvfile:\n",
    "        reader = csv.reader(tsvfile, delimiter=\"\\t\")\n",
    "        return {row[0] for row in reader}\n",
    "\n",
    "terms_lexicon = read_tsv(\"../extraction/swimming-terms_FINAL.tsv\") # set of extracted terms"
   ]
  },
  {
   "cell_type": "code",
   "execution_count": 5,
   "metadata": {},
   "outputs": [
    {
     "output_type": "execute_result",
     "data": {
      "text/plain": [
       "2167"
      ]
     },
     "metadata": {},
     "execution_count": 5
    }
   ],
   "source": [
    "len(terms_lexicon)"
   ]
  },
  {
   "cell_type": "code",
   "execution_count": 6,
   "metadata": {},
   "outputs": [],
   "source": [
    "# open corpus, spacy it\n",
    "\n",
    "corpus = []\n",
    "\n",
    "for txt in glob.iglob(\"../corpus_txt/*.txt\"):\n",
    "    with open(txt, \"r\", encoding=\"utf-8\") as f:\n",
    "        doc = f.readlines()[0]\n",
    "        corpus.append(doc)"
   ]
  },
  {
   "cell_type": "code",
   "execution_count": 7,
   "metadata": {},
   "outputs": [],
   "source": [
    "nlp.max_length = 1500000\n",
    "nlp.add_pipe(nlp.create_pipe('sentencizer'))\n",
    "doc = nlp(\" \".join(corpus), disable=['ner', 'parser'])"
   ]
  },
  {
   "cell_type": "code",
   "execution_count": 8,
   "metadata": {},
   "outputs": [],
   "source": [
    "df = pd.DataFrame([item for sub in [[tok.text for tok in s]+['<eos>'] for s in doc.sents] for item in sub], columns=[\"token\"]) # create df with a token in each cell, sentences separated by <eos>\n",
    "\n",
    "df[\"lemma\"] = [item for sub in [[token.lemma_.lower() if token.lemma_ != '-PRON-' else token.lower_ for token in s]+['<eos>'] for s in doc.sents] for item in sub] # create a column with lemmas"
   ]
  },
  {
   "cell_type": "code",
   "execution_count": 9,
   "metadata": {},
   "outputs": [
    {
     "output_type": "execute_result",
     "data": {
      "text/plain": [
       "                                                    token  \\\n",
       "0                                                      J.   \n",
       "1                                                Swimming   \n",
       "2                                                Research   \n",
       "3                                                       ,   \n",
       "4                                                     Vol   \n",
       "...                                                   ...   \n",
       "291036  http://www.wasa.asn.au/articles/article.asp?Gr...   \n",
       "291037                                                  ,   \n",
       "291038                                               1999   \n",
       "291039                                                  .   \n",
       "291040                                              <eos>   \n",
       "\n",
       "                                                    lemma  \n",
       "0                                                      j.  \n",
       "1                                                swimming  \n",
       "2                                                research  \n",
       "3                                                       ,  \n",
       "4                                                     vol  \n",
       "...                                                   ...  \n",
       "291036  http://www.wasa.asn.au/articles/article.asp?gr...  \n",
       "291037                                                  ,  \n",
       "291038                                               1999  \n",
       "291039                                                  .  \n",
       "291040                                              <eos>  \n",
       "\n",
       "[291041 rows x 2 columns]"
      ],
      "text/html": "<div>\n<style scoped>\n    .dataframe tbody tr th:only-of-type {\n        vertical-align: middle;\n    }\n\n    .dataframe tbody tr th {\n        vertical-align: top;\n    }\n\n    .dataframe thead th {\n        text-align: right;\n    }\n</style>\n<table border=\"1\" class=\"dataframe\">\n  <thead>\n    <tr style=\"text-align: right;\">\n      <th></th>\n      <th>token</th>\n      <th>lemma</th>\n    </tr>\n  </thead>\n  <tbody>\n    <tr>\n      <th>0</th>\n      <td>J.</td>\n      <td>j.</td>\n    </tr>\n    <tr>\n      <th>1</th>\n      <td>Swimming</td>\n      <td>swimming</td>\n    </tr>\n    <tr>\n      <th>2</th>\n      <td>Research</td>\n      <td>research</td>\n    </tr>\n    <tr>\n      <th>3</th>\n      <td>,</td>\n      <td>,</td>\n    </tr>\n    <tr>\n      <th>4</th>\n      <td>Vol</td>\n      <td>vol</td>\n    </tr>\n    <tr>\n      <th>...</th>\n      <td>...</td>\n      <td>...</td>\n    </tr>\n    <tr>\n      <th>291036</th>\n      <td>http://www.wasa.asn.au/articles/article.asp?Gr...</td>\n      <td>http://www.wasa.asn.au/articles/article.asp?gr...</td>\n    </tr>\n    <tr>\n      <th>291037</th>\n      <td>,</td>\n      <td>,</td>\n    </tr>\n    <tr>\n      <th>291038</th>\n      <td>1999</td>\n      <td>1999</td>\n    </tr>\n    <tr>\n      <th>291039</th>\n      <td>.</td>\n      <td>.</td>\n    </tr>\n    <tr>\n      <th>291040</th>\n      <td>&lt;eos&gt;</td>\n      <td>&lt;eos&gt;</td>\n    </tr>\n  </tbody>\n</table>\n<p>291041 rows × 2 columns</p>\n</div>"
     },
     "metadata": {},
     "execution_count": 9
    }
   ],
   "source": [
    "df # with lowercase and lemmitized tokens to allow 1-to-1 matching with terms"
   ]
  },
  {
   "cell_type": "code",
   "execution_count": 10,
   "metadata": {},
   "outputs": [],
   "source": [
    "# initially populate 3rd column with \"O\" tags, which will be changed later\n",
    "# replace <eos> with nan values for handy exporting later\n",
    "\n",
    "df[\"tag\"] = df[\"token\"].apply(lambda x: nan if x == \"<eos>\" else \"O\")\n",
    "df[\"token\"] = df[\"token\"].apply(lambda x: nan if x == \"<eos>\" else x)"
   ]
  },
  {
   "cell_type": "code",
   "execution_count": 11,
   "metadata": {},
   "outputs": [
    {
     "output_type": "execute_result",
     "data": {
      "text/plain": [
       "                                                    token  \\\n",
       "0                                                      J.   \n",
       "1                                                Swimming   \n",
       "2                                                Research   \n",
       "3                                                       ,   \n",
       "4                                                     Vol   \n",
       "...                                                   ...   \n",
       "291036  http://www.wasa.asn.au/articles/article.asp?Gr...   \n",
       "291037                                                  ,   \n",
       "291038                                               1999   \n",
       "291039                                                  .   \n",
       "291040                                                NaN   \n",
       "\n",
       "                                                    lemma  tag  \n",
       "0                                                      j.    O  \n",
       "1                                                swimming    O  \n",
       "2                                                research    O  \n",
       "3                                                       ,    O  \n",
       "4                                                     vol    O  \n",
       "...                                                   ...  ...  \n",
       "291036  http://www.wasa.asn.au/articles/article.asp?gr...    O  \n",
       "291037                                                  ,    O  \n",
       "291038                                               1999    O  \n",
       "291039                                                  .    O  \n",
       "291040                                              <eos>  NaN  \n",
       "\n",
       "[291041 rows x 3 columns]"
      ],
      "text/html": "<div>\n<style scoped>\n    .dataframe tbody tr th:only-of-type {\n        vertical-align: middle;\n    }\n\n    .dataframe tbody tr th {\n        vertical-align: top;\n    }\n\n    .dataframe thead th {\n        text-align: right;\n    }\n</style>\n<table border=\"1\" class=\"dataframe\">\n  <thead>\n    <tr style=\"text-align: right;\">\n      <th></th>\n      <th>token</th>\n      <th>lemma</th>\n      <th>tag</th>\n    </tr>\n  </thead>\n  <tbody>\n    <tr>\n      <th>0</th>\n      <td>J.</td>\n      <td>j.</td>\n      <td>O</td>\n    </tr>\n    <tr>\n      <th>1</th>\n      <td>Swimming</td>\n      <td>swimming</td>\n      <td>O</td>\n    </tr>\n    <tr>\n      <th>2</th>\n      <td>Research</td>\n      <td>research</td>\n      <td>O</td>\n    </tr>\n    <tr>\n      <th>3</th>\n      <td>,</td>\n      <td>,</td>\n      <td>O</td>\n    </tr>\n    <tr>\n      <th>4</th>\n      <td>Vol</td>\n      <td>vol</td>\n      <td>O</td>\n    </tr>\n    <tr>\n      <th>...</th>\n      <td>...</td>\n      <td>...</td>\n      <td>...</td>\n    </tr>\n    <tr>\n      <th>291036</th>\n      <td>http://www.wasa.asn.au/articles/article.asp?Gr...</td>\n      <td>http://www.wasa.asn.au/articles/article.asp?gr...</td>\n      <td>O</td>\n    </tr>\n    <tr>\n      <th>291037</th>\n      <td>,</td>\n      <td>,</td>\n      <td>O</td>\n    </tr>\n    <tr>\n      <th>291038</th>\n      <td>1999</td>\n      <td>1999</td>\n      <td>O</td>\n    </tr>\n    <tr>\n      <th>291039</th>\n      <td>.</td>\n      <td>.</td>\n      <td>O</td>\n    </tr>\n    <tr>\n      <th>291040</th>\n      <td>NaN</td>\n      <td>&lt;eos&gt;</td>\n      <td>NaN</td>\n    </tr>\n  </tbody>\n</table>\n<p>291041 rows × 3 columns</p>\n</div>"
     },
     "metadata": {},
     "execution_count": 11
    }
   ],
   "source": [
    "df"
   ]
  },
  {
   "cell_type": "code",
   "execution_count": 12,
   "metadata": {},
   "outputs": [
    {
     "output_type": "stream",
     "name": "stdout",
     "text": [
      "6\n"
     ]
    }
   ],
   "source": [
    "max_term_len = max([len(x.split(\" \")) for x in terms_lexicon])\n",
    "print(max_term_len)"
   ]
  },
  {
   "cell_type": "code",
   "execution_count": 13,
   "metadata": {},
   "outputs": [],
   "source": [
    "# Creating a new df which contains the terms ngrams (n from 1 to 6)\n",
    "# And the index of the first word of this ngram in the original df\n",
    "\n",
    "# around 120 secs to run\n",
    "\n",
    "ngram_df_entries = []\n",
    "\n",
    "for i in range(1,max_term_len+1):\n",
    "    for j in range(len(df)):\n",
    "        if j+i > len(df):\n",
    "            pass\n",
    "        n_gram = ' '.join(df.iloc[j: j+i][\"lemma\"])\n",
    "        if n_gram in terms_lexicon:\n",
    "            ngram_df_entries.append([j, n_gram, i])"
   ]
  },
  {
   "cell_type": "code",
   "execution_count": 14,
   "metadata": {},
   "outputs": [],
   "source": [
    "ngram_df = pd.DataFrame(columns=[\"starting_index\", \"ngram\", \"ngram_len\"], data=ngram_df_entries)"
   ]
  },
  {
   "cell_type": "code",
   "execution_count": 15,
   "metadata": {},
   "outputs": [
    {
     "output_type": "execute_result",
     "data": {
      "text/plain": [
       "       starting_index                                       ngram  ngram_len\n",
       "0                 263                             stress-recovery          1\n",
       "1                 328                              responsiveness          1\n",
       "2                 337                                   endurance          1\n",
       "3                 436                                   endurance          1\n",
       "4                 475                                    in-water          1\n",
       "...               ...                                         ...        ...\n",
       "18472           71393          computation of lift and drag force          6\n",
       "18473           75707          computation of lift and drag force          6\n",
       "18474          135182  frequency of training and training session          6\n",
       "18475          151181          computation of lift and drag force          6\n",
       "18476          172105          computation of lift and drag force          6\n",
       "\n",
       "[18477 rows x 3 columns]"
      ],
      "text/html": "<div>\n<style scoped>\n    .dataframe tbody tr th:only-of-type {\n        vertical-align: middle;\n    }\n\n    .dataframe tbody tr th {\n        vertical-align: top;\n    }\n\n    .dataframe thead th {\n        text-align: right;\n    }\n</style>\n<table border=\"1\" class=\"dataframe\">\n  <thead>\n    <tr style=\"text-align: right;\">\n      <th></th>\n      <th>starting_index</th>\n      <th>ngram</th>\n      <th>ngram_len</th>\n    </tr>\n  </thead>\n  <tbody>\n    <tr>\n      <th>0</th>\n      <td>263</td>\n      <td>stress-recovery</td>\n      <td>1</td>\n    </tr>\n    <tr>\n      <th>1</th>\n      <td>328</td>\n      <td>responsiveness</td>\n      <td>1</td>\n    </tr>\n    <tr>\n      <th>2</th>\n      <td>337</td>\n      <td>endurance</td>\n      <td>1</td>\n    </tr>\n    <tr>\n      <th>3</th>\n      <td>436</td>\n      <td>endurance</td>\n      <td>1</td>\n    </tr>\n    <tr>\n      <th>4</th>\n      <td>475</td>\n      <td>in-water</td>\n      <td>1</td>\n    </tr>\n    <tr>\n      <th>...</th>\n      <td>...</td>\n      <td>...</td>\n      <td>...</td>\n    </tr>\n    <tr>\n      <th>18472</th>\n      <td>71393</td>\n      <td>computation of lift and drag force</td>\n      <td>6</td>\n    </tr>\n    <tr>\n      <th>18473</th>\n      <td>75707</td>\n      <td>computation of lift and drag force</td>\n      <td>6</td>\n    </tr>\n    <tr>\n      <th>18474</th>\n      <td>135182</td>\n      <td>frequency of training and training session</td>\n      <td>6</td>\n    </tr>\n    <tr>\n      <th>18475</th>\n      <td>151181</td>\n      <td>computation of lift and drag force</td>\n      <td>6</td>\n    </tr>\n    <tr>\n      <th>18476</th>\n      <td>172105</td>\n      <td>computation of lift and drag force</td>\n      <td>6</td>\n    </tr>\n  </tbody>\n</table>\n<p>18477 rows × 3 columns</p>\n</div>"
     },
     "metadata": {},
     "execution_count": 15
    }
   ],
   "source": [
    "ngram_df"
   ]
  },
  {
   "cell_type": "code",
   "execution_count": 16,
   "metadata": {},
   "outputs": [],
   "source": [
    "# Filtering duplicates (keeping the biggest ngrams)\n",
    "\n",
    "ngram_df[\"is_duplicate\"] = ngram_df.duplicated(subset=\"starting_index\", keep='last')"
   ]
  },
  {
   "cell_type": "code",
   "execution_count": 17,
   "metadata": {},
   "outputs": [],
   "source": [
    "ngram_df = ngram_df.query('is_duplicate == False')"
   ]
  },
  {
   "cell_type": "code",
   "execution_count": 18,
   "metadata": {},
   "outputs": [
    {
     "output_type": "execute_result",
     "data": {
      "text/plain": [
       "       starting_index                                       ngram  ngram_len  \\\n",
       "0                 263                             stress-recovery          1   \n",
       "1                 328                              responsiveness          1   \n",
       "5                1068                            hyperventilation          1   \n",
       "6                2186                              responsiveness          1   \n",
       "7                2353                              responsiveness          1   \n",
       "...               ...                                         ...        ...   \n",
       "18472           71393          computation of lift and drag force          6   \n",
       "18473           75707          computation of lift and drag force          6   \n",
       "18474          135182  frequency of training and training session          6   \n",
       "18475          151181          computation of lift and drag force          6   \n",
       "18476          172105          computation of lift and drag force          6   \n",
       "\n",
       "       is_duplicate  \n",
       "0             False  \n",
       "1             False  \n",
       "5             False  \n",
       "6             False  \n",
       "7             False  \n",
       "...             ...  \n",
       "18472         False  \n",
       "18473         False  \n",
       "18474         False  \n",
       "18475         False  \n",
       "18476         False  \n",
       "\n",
       "[16950 rows x 4 columns]"
      ],
      "text/html": "<div>\n<style scoped>\n    .dataframe tbody tr th:only-of-type {\n        vertical-align: middle;\n    }\n\n    .dataframe tbody tr th {\n        vertical-align: top;\n    }\n\n    .dataframe thead th {\n        text-align: right;\n    }\n</style>\n<table border=\"1\" class=\"dataframe\">\n  <thead>\n    <tr style=\"text-align: right;\">\n      <th></th>\n      <th>starting_index</th>\n      <th>ngram</th>\n      <th>ngram_len</th>\n      <th>is_duplicate</th>\n    </tr>\n  </thead>\n  <tbody>\n    <tr>\n      <th>0</th>\n      <td>263</td>\n      <td>stress-recovery</td>\n      <td>1</td>\n      <td>False</td>\n    </tr>\n    <tr>\n      <th>1</th>\n      <td>328</td>\n      <td>responsiveness</td>\n      <td>1</td>\n      <td>False</td>\n    </tr>\n    <tr>\n      <th>5</th>\n      <td>1068</td>\n      <td>hyperventilation</td>\n      <td>1</td>\n      <td>False</td>\n    </tr>\n    <tr>\n      <th>6</th>\n      <td>2186</td>\n      <td>responsiveness</td>\n      <td>1</td>\n      <td>False</td>\n    </tr>\n    <tr>\n      <th>7</th>\n      <td>2353</td>\n      <td>responsiveness</td>\n      <td>1</td>\n      <td>False</td>\n    </tr>\n    <tr>\n      <th>...</th>\n      <td>...</td>\n      <td>...</td>\n      <td>...</td>\n      <td>...</td>\n    </tr>\n    <tr>\n      <th>18472</th>\n      <td>71393</td>\n      <td>computation of lift and drag force</td>\n      <td>6</td>\n      <td>False</td>\n    </tr>\n    <tr>\n      <th>18473</th>\n      <td>75707</td>\n      <td>computation of lift and drag force</td>\n      <td>6</td>\n      <td>False</td>\n    </tr>\n    <tr>\n      <th>18474</th>\n      <td>135182</td>\n      <td>frequency of training and training session</td>\n      <td>6</td>\n      <td>False</td>\n    </tr>\n    <tr>\n      <th>18475</th>\n      <td>151181</td>\n      <td>computation of lift and drag force</td>\n      <td>6</td>\n      <td>False</td>\n    </tr>\n    <tr>\n      <th>18476</th>\n      <td>172105</td>\n      <td>computation of lift and drag force</td>\n      <td>6</td>\n      <td>False</td>\n    </tr>\n  </tbody>\n</table>\n<p>16950 rows × 4 columns</p>\n</div>"
     },
     "metadata": {},
     "execution_count": 18
    }
   ],
   "source": [
    "ngram_df"
   ]
  },
  {
   "cell_type": "code",
   "execution_count": 19,
   "metadata": {},
   "outputs": [],
   "source": [
    "for index, row in ngram_df.iterrows():\n",
    "    for i in range(row.ngram_len):\n",
    "        if i==0:\n",
    "            tag = \"B\"\n",
    "        else:\n",
    "            tag = \"I\"\n",
    "        df.at[row.starting_index+i,\"tag\"] = tag"
   ]
  },
  {
   "source": [
    "## Exploration, saving, splitting dataset"
   ],
   "cell_type": "markdown",
   "metadata": {}
  },
  {
   "cell_type": "code",
   "execution_count": 20,
   "metadata": {},
   "outputs": [
    {
     "output_type": "execute_result",
     "data": {
      "text/plain": [
       "O    247732\n",
       "I     15601\n",
       "B     14105\n",
       "Name: tag, dtype: int64"
      ]
     },
     "metadata": {},
     "execution_count": 20
    }
   ],
   "source": [
    "df.tag.value_counts()"
   ]
  },
  {
   "cell_type": "code",
   "execution_count": 21,
   "metadata": {},
   "outputs": [
    {
     "output_type": "execute_result",
     "data": {
      "text/plain": [
       "                token          lemma tag\n",
       "68      physiological  physiological   B\n",
       "79              elite          elite   B\n",
       "90              elite          elite   B\n",
       "122         bronchial      bronchial   B\n",
       "150              high           high   B\n",
       "...               ...            ...  ..\n",
       "290765       training       training   B\n",
       "290844      influence      influence   B\n",
       "290989           Hand           hand   B\n",
       "290990          force          force   B\n",
       "291024       Swimming       swimming   B\n",
       "\n",
       "[14105 rows x 3 columns]"
      ],
      "text/html": "<div>\n<style scoped>\n    .dataframe tbody tr th:only-of-type {\n        vertical-align: middle;\n    }\n\n    .dataframe tbody tr th {\n        vertical-align: top;\n    }\n\n    .dataframe thead th {\n        text-align: right;\n    }\n</style>\n<table border=\"1\" class=\"dataframe\">\n  <thead>\n    <tr style=\"text-align: right;\">\n      <th></th>\n      <th>token</th>\n      <th>lemma</th>\n      <th>tag</th>\n    </tr>\n  </thead>\n  <tbody>\n    <tr>\n      <th>68</th>\n      <td>physiological</td>\n      <td>physiological</td>\n      <td>B</td>\n    </tr>\n    <tr>\n      <th>79</th>\n      <td>elite</td>\n      <td>elite</td>\n      <td>B</td>\n    </tr>\n    <tr>\n      <th>90</th>\n      <td>elite</td>\n      <td>elite</td>\n      <td>B</td>\n    </tr>\n    <tr>\n      <th>122</th>\n      <td>bronchial</td>\n      <td>bronchial</td>\n      <td>B</td>\n    </tr>\n    <tr>\n      <th>150</th>\n      <td>high</td>\n      <td>high</td>\n      <td>B</td>\n    </tr>\n    <tr>\n      <th>...</th>\n      <td>...</td>\n      <td>...</td>\n      <td>...</td>\n    </tr>\n    <tr>\n      <th>290765</th>\n      <td>training</td>\n      <td>training</td>\n      <td>B</td>\n    </tr>\n    <tr>\n      <th>290844</th>\n      <td>influence</td>\n      <td>influence</td>\n      <td>B</td>\n    </tr>\n    <tr>\n      <th>290989</th>\n      <td>Hand</td>\n      <td>hand</td>\n      <td>B</td>\n    </tr>\n    <tr>\n      <th>290990</th>\n      <td>force</td>\n      <td>force</td>\n      <td>B</td>\n    </tr>\n    <tr>\n      <th>291024</th>\n      <td>Swimming</td>\n      <td>swimming</td>\n      <td>B</td>\n    </tr>\n  </tbody>\n</table>\n<p>14105 rows × 3 columns</p>\n</div>"
     },
     "metadata": {},
     "execution_count": 21
    }
   ],
   "source": [
    "df.query('tag==\"B\"')"
   ]
  },
  {
   "cell_type": "code",
   "execution_count": 22,
   "metadata": {},
   "outputs": [],
   "source": [
    "# train, dev, test BIO dataset creation for sequence term tagger\n",
    "\n",
    "train_len = int(len(df)/100*80)\n",
    "dev_len = train_len+int(len(df)/100*10)\n",
    "\n",
    "df.iloc[:train_len].to_csv(\"../corpus_bio/train.txt\", sep=\" \", header=False, index=False, columns=[\"token\", \"tag\"])\n",
    "df.iloc[train_len:dev_len].to_csv(\"../corpus_bio/dev.txt\", sep=\" \", header=False, index=False, columns=[\"token\", \"tag\"])\n",
    "df.iloc[dev_len:].to_csv(\"../corpus_bio/test.txt\", sep=\" \", header=False, index=False, columns=[\"token\", \"tag\"])"
   ]
  },
  {
   "cell_type": "code",
   "execution_count": null,
   "metadata": {},
   "outputs": [],
   "source": []
  }
 ]
}