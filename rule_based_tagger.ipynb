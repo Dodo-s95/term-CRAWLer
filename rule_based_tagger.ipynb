{
 "metadata": {
  "language_info": {
   "codemirror_mode": {
    "name": "ipython",
    "version": 3
   },
   "file_extension": ".py",
   "mimetype": "text/x-python",
   "name": "python",
   "nbconvert_exporter": "python",
   "pygments_lexer": "ipython3",
   "version": "3.8.3-final"
  },
  "orig_nbformat": 2,
  "kernelspec": {
   "name": "python3",
   "display_name": "Python 3"
  }
 },
 "nbformat": 4,
 "nbformat_minor": 2,
 "cells": [
  {
   "cell_type": "code",
   "execution_count": 26,
   "metadata": {},
   "outputs": [],
   "source": [
    "import spacy\n",
    "import csv\n",
    "import pandas as pd\n",
    "\n",
    "from spacy.lang.char_classes import ALPHA, ALPHA_LOWER, ALPHA_UPPER\n",
    "from spacy.lang.char_classes import CONCAT_QUOTES, LIST_ELLIPSES, LIST_ICONS\n",
    "from spacy.util import compile_infix_regex\n",
    "\n",
    "from numpy import nan"
   ]
  },
  {
   "cell_type": "code",
   "execution_count": 2,
   "metadata": {},
   "outputs": [],
   "source": [
    "nlp = spacy.load(\"en_core_web_sm\")\n",
    "\n",
    "# modify tokenizer infix patterns for avoiding hyphenated words being split (several terms are hyphenated)\n",
    "\n",
    "infixes = (\n",
    "    LIST_ELLIPSES\n",
    "    + LIST_ICONS\n",
    "    + [\n",
    "        r\"(?<=[0-9])[+\\-\\*^](?=[0-9-])\",\n",
    "        r\"(?<=[{al}{q}])\\.(?=[{au}{q}])\".format(\n",
    "            al=ALPHA_LOWER, au=ALPHA_UPPER, q=CONCAT_QUOTES\n",
    "        ),\n",
    "        r\"(?<=[{a}]),(?=[{a}])\".format(a=ALPHA),\n",
    "        r\"(?<=[{a}0-9])[:<>=/](?=[{a}])\".format(a=ALPHA),\n",
    "    ]\n",
    ")\n",
    "\n",
    "infix_re = compile_infix_regex(infixes)\n",
    "nlp.tokenizer.infix_finditer = infix_re.finditer"
   ]
  },
  {
   "cell_type": "code",
   "execution_count": 3,
   "metadata": {},
   "outputs": [],
   "source": [
    "def read_tsv(link):\n",
    "    with open(link, \"r\", encoding=\"utf-8\") as tsvfile:\n",
    "        reader = csv.reader(tsvfile, delimiter=\"\\t\")\n",
    "        next(reader) # skip header\n",
    "        return {row[2].split(\": \")[1] for row in reader}\n",
    "\n",
    "terms_lexicon = read_tsv(\"../swimming-terms.tsv\") \n",
    "# list of extracted terms"
   ]
  },
  {
   "cell_type": "code",
   "execution_count": 4,
   "metadata": {},
   "outputs": [],
   "source": [
    "# open 1 document, spacy it\n",
    "with open(\"../corpus_txt/manuscript-maglischo-vol22.txt\") as f: # corpus here\n",
    "    doc = f.readlines()[0]\n",
    "    doc = nlp(doc)\n"
   ]
  },
  {
   "cell_type": "code",
   "execution_count": 49,
   "metadata": {},
   "outputs": [],
   "source": [
    "df = pd.DataFrame([item for sub in [[tok.text for tok in s]+['<eos>'] for s in doc.sents] for item in sub], columns=[\"token\"])\n",
    "\n",
    "df[\"lemma\"] = [item for sub in [[token.lemma_.lower() if token.lemma_ != '-PRON-' else token.lower_ for token in s]+['<eos>'] for s in doc.sents] for item in sub]\n"
   ]
  },
  {
   "cell_type": "code",
   "execution_count": 51,
   "metadata": {},
   "outputs": [
    {
     "output_type": "execute_result",
     "data": {
      "text/plain": [
       "         token     lemma\n",
       "0     Swimming  swimming\n",
       "1     Research  research\n",
       "2            ,         ,\n",
       "3          Vol       vol\n",
       "4            .         .\n",
       "...        ...       ...\n",
       "9869  Swimming  swimming\n",
       "9870         .         .\n",
       "9871     <eos>     <eos>\n",
       "9872        23        23\n",
       "9873     <eos>     <eos>\n",
       "\n",
       "[9874 rows x 2 columns]"
      ],
      "text/html": "<div>\n<style scoped>\n    .dataframe tbody tr th:only-of-type {\n        vertical-align: middle;\n    }\n\n    .dataframe tbody tr th {\n        vertical-align: top;\n    }\n\n    .dataframe thead th {\n        text-align: right;\n    }\n</style>\n<table border=\"1\" class=\"dataframe\">\n  <thead>\n    <tr style=\"text-align: right;\">\n      <th></th>\n      <th>token</th>\n      <th>lemma</th>\n    </tr>\n  </thead>\n  <tbody>\n    <tr>\n      <th>0</th>\n      <td>Swimming</td>\n      <td>swimming</td>\n    </tr>\n    <tr>\n      <th>1</th>\n      <td>Research</td>\n      <td>research</td>\n    </tr>\n    <tr>\n      <th>2</th>\n      <td>,</td>\n      <td>,</td>\n    </tr>\n    <tr>\n      <th>3</th>\n      <td>Vol</td>\n      <td>vol</td>\n    </tr>\n    <tr>\n      <th>4</th>\n      <td>.</td>\n      <td>.</td>\n    </tr>\n    <tr>\n      <th>...</th>\n      <td>...</td>\n      <td>...</td>\n    </tr>\n    <tr>\n      <th>9869</th>\n      <td>Swimming</td>\n      <td>swimming</td>\n    </tr>\n    <tr>\n      <th>9870</th>\n      <td>.</td>\n      <td>.</td>\n    </tr>\n    <tr>\n      <th>9871</th>\n      <td>&lt;eos&gt;</td>\n      <td>&lt;eos&gt;</td>\n    </tr>\n    <tr>\n      <th>9872</th>\n      <td>23</td>\n      <td>23</td>\n    </tr>\n    <tr>\n      <th>9873</th>\n      <td>&lt;eos&gt;</td>\n      <td>&lt;eos&gt;</td>\n    </tr>\n  </tbody>\n</table>\n<p>9874 rows × 2 columns</p>\n</div>"
     },
     "metadata": {},
     "execution_count": 51
    }
   ],
   "source": [
    "df"
   ]
  },
  {
   "cell_type": "code",
   "execution_count": 53,
   "metadata": {},
   "outputs": [],
   "source": [
    "# populate 3rd column with \"O\" tags\n",
    "df[\"tag\"] = df[\"token\"].apply(lambda x: nan if x == \"<eos>\" else \"O\")\n",
    "df[\"token\"] = df[\"token\"].apply(lambda x: nan if x == \"<eos>\" else x)"
   ]
  },
  {
   "cell_type": "code",
   "execution_count": 54,
   "metadata": {},
   "outputs": [
    {
     "output_type": "execute_result",
     "data": {
      "text/plain": [
       "         token     lemma  tag\n",
       "0     Swimming  swimming    O\n",
       "1     Research  research    O\n",
       "2            ,         ,    O\n",
       "3          Vol       vol    O\n",
       "4            .         .    O\n",
       "...        ...       ...  ...\n",
       "9869  Swimming  swimming    O\n",
       "9870         .         .    O\n",
       "9871       NaN     <eos>  NaN\n",
       "9872        23        23    O\n",
       "9873       NaN     <eos>  NaN\n",
       "\n",
       "[9874 rows x 3 columns]"
      ],
      "text/html": "<div>\n<style scoped>\n    .dataframe tbody tr th:only-of-type {\n        vertical-align: middle;\n    }\n\n    .dataframe tbody tr th {\n        vertical-align: top;\n    }\n\n    .dataframe thead th {\n        text-align: right;\n    }\n</style>\n<table border=\"1\" class=\"dataframe\">\n  <thead>\n    <tr style=\"text-align: right;\">\n      <th></th>\n      <th>token</th>\n      <th>lemma</th>\n      <th>tag</th>\n    </tr>\n  </thead>\n  <tbody>\n    <tr>\n      <th>0</th>\n      <td>Swimming</td>\n      <td>swimming</td>\n      <td>O</td>\n    </tr>\n    <tr>\n      <th>1</th>\n      <td>Research</td>\n      <td>research</td>\n      <td>O</td>\n    </tr>\n    <tr>\n      <th>2</th>\n      <td>,</td>\n      <td>,</td>\n      <td>O</td>\n    </tr>\n    <tr>\n      <th>3</th>\n      <td>Vol</td>\n      <td>vol</td>\n      <td>O</td>\n    </tr>\n    <tr>\n      <th>4</th>\n      <td>.</td>\n      <td>.</td>\n      <td>O</td>\n    </tr>\n    <tr>\n      <th>...</th>\n      <td>...</td>\n      <td>...</td>\n      <td>...</td>\n    </tr>\n    <tr>\n      <th>9869</th>\n      <td>Swimming</td>\n      <td>swimming</td>\n      <td>O</td>\n    </tr>\n    <tr>\n      <th>9870</th>\n      <td>.</td>\n      <td>.</td>\n      <td>O</td>\n    </tr>\n    <tr>\n      <th>9871</th>\n      <td>NaN</td>\n      <td>&lt;eos&gt;</td>\n      <td>NaN</td>\n    </tr>\n    <tr>\n      <th>9872</th>\n      <td>23</td>\n      <td>23</td>\n      <td>O</td>\n    </tr>\n    <tr>\n      <th>9873</th>\n      <td>NaN</td>\n      <td>&lt;eos&gt;</td>\n      <td>NaN</td>\n    </tr>\n  </tbody>\n</table>\n<p>9874 rows × 3 columns</p>\n</div>"
     },
     "metadata": {},
     "execution_count": 54
    }
   ],
   "source": [
    "df"
   ]
  },
  {
   "cell_type": "code",
   "execution_count": 55,
   "metadata": {},
   "outputs": [
    {
     "output_type": "stream",
     "name": "stdout",
     "text": [
      "6\n"
     ]
    }
   ],
   "source": [
    "max_term_len = max([len(x.split(\" \")) for x in terms_lexicon])\n",
    "print(max_term_len)"
   ]
  },
  {
   "source": [
    "# Attempts"
   ],
   "cell_type": "markdown",
   "metadata": {}
  },
  {
   "source": [
    "## 2 df n grams"
   ],
   "cell_type": "markdown",
   "metadata": {}
  },
  {
   "cell_type": "code",
   "execution_count": 56,
   "metadata": {},
   "outputs": [],
   "source": [
    "# Creating a new df which contains the terms ngrams (n from 1 to 6)\n",
    "# And the index of the first word of this ngram in the original df\n",
    "\n",
    "ngram_df_entries = []\n",
    "\n",
    "for i in range(1,max_term_len+1):\n",
    "    for j in range(len(df)):\n",
    "        if j+i > len(df):\n",
    "            pass\n",
    "        n_gram = ' '.join(df.iloc[j: j+i][\"lemma\"])\n",
    "        if n_gram in terms_lexicon:\n",
    "            ngram_df_entries.append([j, n_gram, i])"
   ]
  },
  {
   "cell_type": "code",
   "execution_count": 57,
   "metadata": {},
   "outputs": [],
   "source": [
    "ngram_df = pd.DataFrame(columns=[\"starting_index\", \"ngram\", \"ngram_len\"], data=ngram_df_entries)"
   ]
  },
  {
   "cell_type": "code",
   "execution_count": 58,
   "metadata": {},
   "outputs": [
    {
     "output_type": "execute_result",
     "data": {
      "text/plain": [
       "      starting_index                               ngram  ngram_len\n",
       "0                  0                            swimming          1\n",
       "1                 14                                time          1\n",
       "2                 21                            swimming          1\n",
       "3                 22                          backstroke          1\n",
       "4                 25                              ernest          1\n",
       "...              ...                                 ...        ...\n",
       "3180            2958         middle and right hand photo          5\n",
       "3181            7438           period of trial and error          5\n",
       "3182            7901     short and long backstroke event          5\n",
       "3183            7919  male and female backstroke swimmer          5\n",
       "3184            8917   significant loss of stroke length          5\n",
       "\n",
       "[3185 rows x 3 columns]"
      ],
      "text/html": "<div>\n<style scoped>\n    .dataframe tbody tr th:only-of-type {\n        vertical-align: middle;\n    }\n\n    .dataframe tbody tr th {\n        vertical-align: top;\n    }\n\n    .dataframe thead th {\n        text-align: right;\n    }\n</style>\n<table border=\"1\" class=\"dataframe\">\n  <thead>\n    <tr style=\"text-align: right;\">\n      <th></th>\n      <th>starting_index</th>\n      <th>ngram</th>\n      <th>ngram_len</th>\n    </tr>\n  </thead>\n  <tbody>\n    <tr>\n      <th>0</th>\n      <td>0</td>\n      <td>swimming</td>\n      <td>1</td>\n    </tr>\n    <tr>\n      <th>1</th>\n      <td>14</td>\n      <td>time</td>\n      <td>1</td>\n    </tr>\n    <tr>\n      <th>2</th>\n      <td>21</td>\n      <td>swimming</td>\n      <td>1</td>\n    </tr>\n    <tr>\n      <th>3</th>\n      <td>22</td>\n      <td>backstroke</td>\n      <td>1</td>\n    </tr>\n    <tr>\n      <th>4</th>\n      <td>25</td>\n      <td>ernest</td>\n      <td>1</td>\n    </tr>\n    <tr>\n      <th>...</th>\n      <td>...</td>\n      <td>...</td>\n      <td>...</td>\n    </tr>\n    <tr>\n      <th>3180</th>\n      <td>2958</td>\n      <td>middle and right hand photo</td>\n      <td>5</td>\n    </tr>\n    <tr>\n      <th>3181</th>\n      <td>7438</td>\n      <td>period of trial and error</td>\n      <td>5</td>\n    </tr>\n    <tr>\n      <th>3182</th>\n      <td>7901</td>\n      <td>short and long backstroke event</td>\n      <td>5</td>\n    </tr>\n    <tr>\n      <th>3183</th>\n      <td>7919</td>\n      <td>male and female backstroke swimmer</td>\n      <td>5</td>\n    </tr>\n    <tr>\n      <th>3184</th>\n      <td>8917</td>\n      <td>significant loss of stroke length</td>\n      <td>5</td>\n    </tr>\n  </tbody>\n</table>\n<p>3185 rows × 3 columns</p>\n</div>"
     },
     "metadata": {},
     "execution_count": 58
    }
   ],
   "source": [
    "ngram_df"
   ]
  },
  {
   "cell_type": "code",
   "execution_count": 59,
   "metadata": {},
   "outputs": [],
   "source": [
    "# Filtering duplicates (keeping the biggest ngrams)\n",
    "ngram_df[\"is_duplicate\"] = ngram_df.duplicated(subset=\"starting_index\", keep='last')"
   ]
  },
  {
   "cell_type": "code",
   "execution_count": 60,
   "metadata": {},
   "outputs": [],
   "source": [
    "ngram_df = ngram_df.query('is_duplicate == False')"
   ]
  },
  {
   "cell_type": "code",
   "execution_count": 61,
   "metadata": {},
   "outputs": [
    {
     "output_type": "execute_result",
     "data": {
      "text/plain": [
       "      starting_index                               ngram  ngram_len  \\\n",
       "1                 14                                time          1   \n",
       "2                 21                            swimming          1   \n",
       "3                 22                          backstroke          1   \n",
       "4                 25                              ernest          1   \n",
       "5                 27                           maglischo          1   \n",
       "...              ...                                 ...        ...   \n",
       "3180            2958         middle and right hand photo          5   \n",
       "3181            7438           period of trial and error          5   \n",
       "3182            7901     short and long backstroke event          5   \n",
       "3183            7919  male and female backstroke swimmer          5   \n",
       "3184            8917   significant loss of stroke length          5   \n",
       "\n",
       "      is_duplicate  \n",
       "1            False  \n",
       "2            False  \n",
       "3            False  \n",
       "4            False  \n",
       "5            False  \n",
       "...            ...  \n",
       "3180         False  \n",
       "3181         False  \n",
       "3182         False  \n",
       "3183         False  \n",
       "3184         False  \n",
       "\n",
       "[2615 rows x 4 columns]"
      ],
      "text/html": "<div>\n<style scoped>\n    .dataframe tbody tr th:only-of-type {\n        vertical-align: middle;\n    }\n\n    .dataframe tbody tr th {\n        vertical-align: top;\n    }\n\n    .dataframe thead th {\n        text-align: right;\n    }\n</style>\n<table border=\"1\" class=\"dataframe\">\n  <thead>\n    <tr style=\"text-align: right;\">\n      <th></th>\n      <th>starting_index</th>\n      <th>ngram</th>\n      <th>ngram_len</th>\n      <th>is_duplicate</th>\n    </tr>\n  </thead>\n  <tbody>\n    <tr>\n      <th>1</th>\n      <td>14</td>\n      <td>time</td>\n      <td>1</td>\n      <td>False</td>\n    </tr>\n    <tr>\n      <th>2</th>\n      <td>21</td>\n      <td>swimming</td>\n      <td>1</td>\n      <td>False</td>\n    </tr>\n    <tr>\n      <th>3</th>\n      <td>22</td>\n      <td>backstroke</td>\n      <td>1</td>\n      <td>False</td>\n    </tr>\n    <tr>\n      <th>4</th>\n      <td>25</td>\n      <td>ernest</td>\n      <td>1</td>\n      <td>False</td>\n    </tr>\n    <tr>\n      <th>5</th>\n      <td>27</td>\n      <td>maglischo</td>\n      <td>1</td>\n      <td>False</td>\n    </tr>\n    <tr>\n      <th>...</th>\n      <td>...</td>\n      <td>...</td>\n      <td>...</td>\n      <td>...</td>\n    </tr>\n    <tr>\n      <th>3180</th>\n      <td>2958</td>\n      <td>middle and right hand photo</td>\n      <td>5</td>\n      <td>False</td>\n    </tr>\n    <tr>\n      <th>3181</th>\n      <td>7438</td>\n      <td>period of trial and error</td>\n      <td>5</td>\n      <td>False</td>\n    </tr>\n    <tr>\n      <th>3182</th>\n      <td>7901</td>\n      <td>short and long backstroke event</td>\n      <td>5</td>\n      <td>False</td>\n    </tr>\n    <tr>\n      <th>3183</th>\n      <td>7919</td>\n      <td>male and female backstroke swimmer</td>\n      <td>5</td>\n      <td>False</td>\n    </tr>\n    <tr>\n      <th>3184</th>\n      <td>8917</td>\n      <td>significant loss of stroke length</td>\n      <td>5</td>\n      <td>False</td>\n    </tr>\n  </tbody>\n</table>\n<p>2615 rows × 4 columns</p>\n</div>"
     },
     "metadata": {},
     "execution_count": 61
    }
   ],
   "source": [
    "ngram_df"
   ]
  },
  {
   "cell_type": "code",
   "execution_count": 62,
   "metadata": {},
   "outputs": [],
   "source": [
    "for index, row in ngram_df.iterrows():\n",
    "    #breakpoint()\n",
    "    for i in range(row.ngram_len):\n",
    "        if i==0:\n",
    "            tag = \"B\"\n",
    "        else:\n",
    "            tag = \"I\"\n",
    "        df.at[row.starting_index+i,\"tag\"] = tag"
   ]
  },
  {
   "source": [
    "## exploration"
   ],
   "cell_type": "markdown",
   "metadata": {}
  },
  {
   "cell_type": "code",
   "execution_count": 63,
   "metadata": {},
   "outputs": [
    {
     "output_type": "execute_result",
     "data": {
      "text/plain": [
       "O    6524\n",
       "B    2029\n",
       "I     848\n",
       "Name: tag, dtype: int64"
      ]
     },
     "metadata": {},
     "execution_count": 63
    }
   ],
   "source": [
    "df.tag.value_counts()"
   ]
  },
  {
   "cell_type": "code",
   "execution_count": 64,
   "metadata": {},
   "outputs": [
    {
     "output_type": "execute_result",
     "data": {
      "text/plain": [
       "           token       lemma tag\n",
       "0       Swimming    swimming   B\n",
       "14          Time        time   B\n",
       "21      Swimming    swimming   B\n",
       "22    Backstroke  backstroke   B\n",
       "25        Ernest      ernest   B\n",
       "...          ...         ...  ..\n",
       "9841        Mark        mark   B\n",
       "9849  Backstroke  backstroke   B\n",
       "9852      Online      online   B\n",
       "9855        Feb.    february   B\n",
       "9868         USA         usa   B\n",
       "\n",
       "[2029 rows x 3 columns]"
      ],
      "text/html": "<div>\n<style scoped>\n    .dataframe tbody tr th:only-of-type {\n        vertical-align: middle;\n    }\n\n    .dataframe tbody tr th {\n        vertical-align: top;\n    }\n\n    .dataframe thead th {\n        text-align: right;\n    }\n</style>\n<table border=\"1\" class=\"dataframe\">\n  <thead>\n    <tr style=\"text-align: right;\">\n      <th></th>\n      <th>token</th>\n      <th>lemma</th>\n      <th>tag</th>\n    </tr>\n  </thead>\n  <tbody>\n    <tr>\n      <th>0</th>\n      <td>Swimming</td>\n      <td>swimming</td>\n      <td>B</td>\n    </tr>\n    <tr>\n      <th>14</th>\n      <td>Time</td>\n      <td>time</td>\n      <td>B</td>\n    </tr>\n    <tr>\n      <th>21</th>\n      <td>Swimming</td>\n      <td>swimming</td>\n      <td>B</td>\n    </tr>\n    <tr>\n      <th>22</th>\n      <td>Backstroke</td>\n      <td>backstroke</td>\n      <td>B</td>\n    </tr>\n    <tr>\n      <th>25</th>\n      <td>Ernest</td>\n      <td>ernest</td>\n      <td>B</td>\n    </tr>\n    <tr>\n      <th>...</th>\n      <td>...</td>\n      <td>...</td>\n      <td>...</td>\n    </tr>\n    <tr>\n      <th>9841</th>\n      <td>Mark</td>\n      <td>mark</td>\n      <td>B</td>\n    </tr>\n    <tr>\n      <th>9849</th>\n      <td>Backstroke</td>\n      <td>backstroke</td>\n      <td>B</td>\n    </tr>\n    <tr>\n      <th>9852</th>\n      <td>Online</td>\n      <td>online</td>\n      <td>B</td>\n    </tr>\n    <tr>\n      <th>9855</th>\n      <td>Feb.</td>\n      <td>february</td>\n      <td>B</td>\n    </tr>\n    <tr>\n      <th>9868</th>\n      <td>USA</td>\n      <td>usa</td>\n      <td>B</td>\n    </tr>\n  </tbody>\n</table>\n<p>2029 rows × 3 columns</p>\n</div>"
     },
     "metadata": {},
     "execution_count": 64
    }
   ],
   "source": [
    "df.query('tag==\"B\"')"
   ]
  },
  {
   "cell_type": "code",
   "execution_count": 65,
   "metadata": {},
   "outputs": [
    {
     "output_type": "execute_result",
     "data": {
      "text/plain": [
       "False"
      ]
     },
     "metadata": {},
     "execution_count": 65
    }
   ],
   "source": [
    "\"swimming backstroke\" in terms_lexicon"
   ]
  },
  {
   "cell_type": "code",
   "execution_count": 66,
   "metadata": {},
   "outputs": [],
   "source": [
    "df.to_csv(\"dataset.txt\", sep=\" \",header=False, index=False, columns=[\"token\", \"tag\"])"
   ]
  },
  {
   "cell_type": "code",
   "execution_count": 43,
   "metadata": {},
   "outputs": [
    {
     "output_type": "execute_result",
     "data": {
      "text/plain": [
       "         token       lemma  tag\n",
       "20          of          of    O\n",
       "21    Swimming    swimming    B\n",
       "22  Backstroke  backstroke    B\n",
       "23           ?           ?    O\n",
       "24          \\n          \\n  NaN\n",
       "25      Ernest      ernest    B\n",
       "26          W.          w.    O\n",
       "27   Maglischo   maglischo    B\n",
       "28        1970        1970    O\n",
       "29        Lazy        lazy    B\n",
       "30      Meadow      meadow    I\n",
       "31        Lane        lane    I\n",
       "32    Prescott    prescott    I\n",
       "33           ,           ,    O"
      ],
      "text/html": "<div>\n<style scoped>\n    .dataframe tbody tr th:only-of-type {\n        vertical-align: middle;\n    }\n\n    .dataframe tbody tr th {\n        vertical-align: top;\n    }\n\n    .dataframe thead th {\n        text-align: right;\n    }\n</style>\n<table border=\"1\" class=\"dataframe\">\n  <thead>\n    <tr style=\"text-align: right;\">\n      <th></th>\n      <th>token</th>\n      <th>lemma</th>\n      <th>tag</th>\n    </tr>\n  </thead>\n  <tbody>\n    <tr>\n      <th>20</th>\n      <td>of</td>\n      <td>of</td>\n      <td>O</td>\n    </tr>\n    <tr>\n      <th>21</th>\n      <td>Swimming</td>\n      <td>swimming</td>\n      <td>B</td>\n    </tr>\n    <tr>\n      <th>22</th>\n      <td>Backstroke</td>\n      <td>backstroke</td>\n      <td>B</td>\n    </tr>\n    <tr>\n      <th>23</th>\n      <td>?</td>\n      <td>?</td>\n      <td>O</td>\n    </tr>\n    <tr>\n      <th>24</th>\n      <td>\\n</td>\n      <td>\\n</td>\n      <td>NaN</td>\n    </tr>\n    <tr>\n      <th>25</th>\n      <td>Ernest</td>\n      <td>ernest</td>\n      <td>B</td>\n    </tr>\n    <tr>\n      <th>26</th>\n      <td>W.</td>\n      <td>w.</td>\n      <td>O</td>\n    </tr>\n    <tr>\n      <th>27</th>\n      <td>Maglischo</td>\n      <td>maglischo</td>\n      <td>B</td>\n    </tr>\n    <tr>\n      <th>28</th>\n      <td>1970</td>\n      <td>1970</td>\n      <td>O</td>\n    </tr>\n    <tr>\n      <th>29</th>\n      <td>Lazy</td>\n      <td>lazy</td>\n      <td>B</td>\n    </tr>\n    <tr>\n      <th>30</th>\n      <td>Meadow</td>\n      <td>meadow</td>\n      <td>I</td>\n    </tr>\n    <tr>\n      <th>31</th>\n      <td>Lane</td>\n      <td>lane</td>\n      <td>I</td>\n    </tr>\n    <tr>\n      <th>32</th>\n      <td>Prescott</td>\n      <td>prescott</td>\n      <td>I</td>\n    </tr>\n    <tr>\n      <th>33</th>\n      <td>,</td>\n      <td>,</td>\n      <td>O</td>\n    </tr>\n  </tbody>\n</table>\n</div>"
     },
     "metadata": {},
     "execution_count": 43
    }
   ],
   "source": [
    "df.iloc[20:34]"
   ]
  },
  {
   "cell_type": "code",
   "execution_count": null,
   "metadata": {},
   "outputs": [],
   "source": []
  }
 ]
}