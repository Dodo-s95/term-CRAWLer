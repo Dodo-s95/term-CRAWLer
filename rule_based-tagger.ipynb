{
 "metadata": {
  "language_info": {
   "codemirror_mode": {
    "name": "ipython",
    "version": 3
   },
   "file_extension": ".py",
   "mimetype": "text/x-python",
   "name": "python",
   "nbconvert_exporter": "python",
   "pygments_lexer": "ipython3",
   "version": "3.8.0-final"
  },
  "orig_nbformat": 2,
  "kernelspec": {
   "name": "python38064bitterminologycondaef931532d8e947c7a884074a14664a41",
   "display_name": "Python 3.8.0 64-bit ('terminology': conda)"
  }
 },
 "nbformat": 4,
 "nbformat_minor": 2,
 "cells": [
  {
   "cell_type": "code",
   "execution_count": 1,
   "metadata": {},
   "outputs": [],
   "source": [
    "import spacy\n",
    "import csv\n",
    "import pandas as pd\n",
    "import glob\n",
    "\n",
    "from spacy.lang.char_classes import ALPHA, ALPHA_LOWER, ALPHA_UPPER\n",
    "from spacy.lang.char_classes import CONCAT_QUOTES, LIST_ELLIPSES, LIST_ICONS\n",
    "from spacy.util import compile_infix_regex\n",
    "\n",
    "from numpy import nan"
   ]
  },
  {
   "cell_type": "code",
   "execution_count": 2,
   "metadata": {},
   "outputs": [],
   "source": [
    "nlp = spacy.load(\"en_core_web_sm\")\n",
    "\n",
    "# modify tokenizer infix patterns for avoiding hyphenated words being split (several terms are hyphenated)\n",
    "\n",
    "infixes = (\n",
    "    LIST_ELLIPSES\n",
    "    + LIST_ICONS\n",
    "    + [\n",
    "        r\"(?<=[0-9])[+\\-\\*^](?=[0-9-])\",\n",
    "        r\"(?<=[{al}{q}])\\.(?=[{au}{q}])\".format(\n",
    "            al=ALPHA_LOWER, au=ALPHA_UPPER, q=CONCAT_QUOTES\n",
    "        ),\n",
    "        r\"(?<=[{a}]),(?=[{a}])\".format(a=ALPHA),\n",
    "        r\"(?<=[{a}0-9])[:<>=/](?=[{a}])\".format(a=ALPHA),\n",
    "    ]\n",
    ")\n",
    "\n",
    "infix_re = compile_infix_regex(infixes)\n",
    "nlp.tokenizer.infix_finditer = infix_re.finditer"
   ]
  },
  {
   "cell_type": "code",
   "execution_count": 3,
   "metadata": {},
   "outputs": [],
   "source": [
    "def read_tsv(link):\n",
    "    with open(link, \"r\", encoding=\"utf-8\") as tsvfile:\n",
    "        reader = csv.reader(tsvfile, delimiter=\"\\t\")\n",
    "        next(reader) # skip header\n",
    "        return {row[2].split(\": \")[1] for row in reader}\n",
    "\n",
    "terms_lexicon = read_tsv(\"../extraction/swimming-terms_spec_top3k_VALIDATED.tsv\") # set of extracted terms"
   ]
  },
  {
   "cell_type": "code",
   "execution_count": 4,
   "metadata": {},
   "outputs": [],
   "source": [
    "# open corpus, spacy it\n",
    "\n",
    "corpus = []\n",
    "\n",
    "for txt in glob.iglob(\"../corpus_txt/*.txt\"):\n",
    "    with open(txt, \"r\", encoding=\"utf-8\") as f:\n",
    "        doc = f.readlines()[0]\n",
    "        corpus.append(doc)"
   ]
  },
  {
   "cell_type": "code",
   "execution_count": 5,
   "metadata": {},
   "outputs": [],
   "source": [
    "nlp.max_length = 1500000\n",
    "nlp.add_pipe(nlp.create_pipe('sentencizer'))\n",
    "doc = nlp(\" \".join(corpus), disable=['ner', 'parser'])"
   ]
  },
  {
   "cell_type": "code",
   "execution_count": 6,
   "metadata": {},
   "outputs": [],
   "source": [
    "df = pd.DataFrame([item for sub in [[tok.text for tok in s]+['<eos>'] for s in doc.sents] for item in sub], columns=[\"token\"]) # create df with a token in each cell, sentences separated by <eos>\n",
    "\n",
    "df[\"lemma\"] = [item for sub in [[token.lemma_.lower() if token.lemma_ != '-PRON-' else token.lower_ for token in s]+['<eos>'] for s in doc.sents] for item in sub] # create a column with lemmas"
   ]
  },
  {
   "cell_type": "code",
   "execution_count": 7,
   "metadata": {},
   "outputs": [
    {
     "output_type": "execute_result",
     "data": {
      "text/plain": [
       "                                                    token  \\\n",
       "0                                                      J.   \n",
       "1                                                Swimming   \n",
       "2                                                Research   \n",
       "3                                                       ,   \n",
       "4                                                     Vol   \n",
       "...                                                   ...   \n",
       "291036  http://www.wasa.asn.au/articles/article.asp?Gr...   \n",
       "291037                                                  ,   \n",
       "291038                                               1999   \n",
       "291039                                                  .   \n",
       "291040                                              <eos>   \n",
       "\n",
       "                                                    lemma  \n",
       "0                                                      j.  \n",
       "1                                                swimming  \n",
       "2                                                research  \n",
       "3                                                       ,  \n",
       "4                                                     vol  \n",
       "...                                                   ...  \n",
       "291036  http://www.wasa.asn.au/articles/article.asp?gr...  \n",
       "291037                                                  ,  \n",
       "291038                                               1999  \n",
       "291039                                                  .  \n",
       "291040                                              <eos>  \n",
       "\n",
       "[291041 rows x 2 columns]"
      ],
      "text/html": "<div>\n<style scoped>\n    .dataframe tbody tr th:only-of-type {\n        vertical-align: middle;\n    }\n\n    .dataframe tbody tr th {\n        vertical-align: top;\n    }\n\n    .dataframe thead th {\n        text-align: right;\n    }\n</style>\n<table border=\"1\" class=\"dataframe\">\n  <thead>\n    <tr style=\"text-align: right;\">\n      <th></th>\n      <th>token</th>\n      <th>lemma</th>\n    </tr>\n  </thead>\n  <tbody>\n    <tr>\n      <th>0</th>\n      <td>J.</td>\n      <td>j.</td>\n    </tr>\n    <tr>\n      <th>1</th>\n      <td>Swimming</td>\n      <td>swimming</td>\n    </tr>\n    <tr>\n      <th>2</th>\n      <td>Research</td>\n      <td>research</td>\n    </tr>\n    <tr>\n      <th>3</th>\n      <td>,</td>\n      <td>,</td>\n    </tr>\n    <tr>\n      <th>4</th>\n      <td>Vol</td>\n      <td>vol</td>\n    </tr>\n    <tr>\n      <th>...</th>\n      <td>...</td>\n      <td>...</td>\n    </tr>\n    <tr>\n      <th>291036</th>\n      <td>http://www.wasa.asn.au/articles/article.asp?Gr...</td>\n      <td>http://www.wasa.asn.au/articles/article.asp?gr...</td>\n    </tr>\n    <tr>\n      <th>291037</th>\n      <td>,</td>\n      <td>,</td>\n    </tr>\n    <tr>\n      <th>291038</th>\n      <td>1999</td>\n      <td>1999</td>\n    </tr>\n    <tr>\n      <th>291039</th>\n      <td>.</td>\n      <td>.</td>\n    </tr>\n    <tr>\n      <th>291040</th>\n      <td>&lt;eos&gt;</td>\n      <td>&lt;eos&gt;</td>\n    </tr>\n  </tbody>\n</table>\n<p>291041 rows × 2 columns</p>\n</div>"
     },
     "metadata": {},
     "execution_count": 7
    }
   ],
   "source": [
    "df"
   ]
  },
  {
   "cell_type": "code",
   "execution_count": 8,
   "metadata": {},
   "outputs": [],
   "source": [
    "# initially populate 3rd column with \"O\" tags, which will be changed later\n",
    "# replace <eos> with nan values for handy exporting later\n",
    "\n",
    "df[\"tag\"] = df[\"token\"].apply(lambda x: nan if x == \"<eos>\" else \"O\")\n",
    "df[\"token\"] = df[\"token\"].apply(lambda x: nan if x == \"<eos>\" else x)"
   ]
  },
  {
   "cell_type": "code",
   "execution_count": 9,
   "metadata": {},
   "outputs": [
    {
     "output_type": "execute_result",
     "data": {
      "text/plain": [
       "                                                    token  \\\n",
       "0                                                      J.   \n",
       "1                                                Swimming   \n",
       "2                                                Research   \n",
       "3                                                       ,   \n",
       "4                                                     Vol   \n",
       "...                                                   ...   \n",
       "291036  http://www.wasa.asn.au/articles/article.asp?Gr...   \n",
       "291037                                                  ,   \n",
       "291038                                               1999   \n",
       "291039                                                  .   \n",
       "291040                                                NaN   \n",
       "\n",
       "                                                    lemma  tag  \n",
       "0                                                      j.    O  \n",
       "1                                                swimming    O  \n",
       "2                                                research    O  \n",
       "3                                                       ,    O  \n",
       "4                                                     vol    O  \n",
       "...                                                   ...  ...  \n",
       "291036  http://www.wasa.asn.au/articles/article.asp?gr...    O  \n",
       "291037                                                  ,    O  \n",
       "291038                                               1999    O  \n",
       "291039                                                  .    O  \n",
       "291040                                              <eos>  NaN  \n",
       "\n",
       "[291041 rows x 3 columns]"
      ],
      "text/html": "<div>\n<style scoped>\n    .dataframe tbody tr th:only-of-type {\n        vertical-align: middle;\n    }\n\n    .dataframe tbody tr th {\n        vertical-align: top;\n    }\n\n    .dataframe thead th {\n        text-align: right;\n    }\n</style>\n<table border=\"1\" class=\"dataframe\">\n  <thead>\n    <tr style=\"text-align: right;\">\n      <th></th>\n      <th>token</th>\n      <th>lemma</th>\n      <th>tag</th>\n    </tr>\n  </thead>\n  <tbody>\n    <tr>\n      <th>0</th>\n      <td>J.</td>\n      <td>j.</td>\n      <td>O</td>\n    </tr>\n    <tr>\n      <th>1</th>\n      <td>Swimming</td>\n      <td>swimming</td>\n      <td>O</td>\n    </tr>\n    <tr>\n      <th>2</th>\n      <td>Research</td>\n      <td>research</td>\n      <td>O</td>\n    </tr>\n    <tr>\n      <th>3</th>\n      <td>,</td>\n      <td>,</td>\n      <td>O</td>\n    </tr>\n    <tr>\n      <th>4</th>\n      <td>Vol</td>\n      <td>vol</td>\n      <td>O</td>\n    </tr>\n    <tr>\n      <th>...</th>\n      <td>...</td>\n      <td>...</td>\n      <td>...</td>\n    </tr>\n    <tr>\n      <th>291036</th>\n      <td>http://www.wasa.asn.au/articles/article.asp?Gr...</td>\n      <td>http://www.wasa.asn.au/articles/article.asp?gr...</td>\n      <td>O</td>\n    </tr>\n    <tr>\n      <th>291037</th>\n      <td>,</td>\n      <td>,</td>\n      <td>O</td>\n    </tr>\n    <tr>\n      <th>291038</th>\n      <td>1999</td>\n      <td>1999</td>\n      <td>O</td>\n    </tr>\n    <tr>\n      <th>291039</th>\n      <td>.</td>\n      <td>.</td>\n      <td>O</td>\n    </tr>\n    <tr>\n      <th>291040</th>\n      <td>NaN</td>\n      <td>&lt;eos&gt;</td>\n      <td>NaN</td>\n    </tr>\n  </tbody>\n</table>\n<p>291041 rows × 3 columns</p>\n</div>"
     },
     "metadata": {},
     "execution_count": 9
    }
   ],
   "source": [
    "df"
   ]
  },
  {
   "cell_type": "code",
   "execution_count": 10,
   "metadata": {},
   "outputs": [
    {
     "output_type": "stream",
     "name": "stdout",
     "text": [
      "6\n"
     ]
    }
   ],
   "source": [
    "max_term_len = max([len(x.split(\" \")) for x in terms_lexicon])\n",
    "print(max_term_len)"
   ]
  },
  {
   "cell_type": "code",
   "execution_count": 11,
   "metadata": {},
   "outputs": [],
   "source": [
    "# Creating a new df which contains the terms ngrams (n from 1 to 6)\n",
    "# And the index of the first word of this ngram in the original df\n",
    "\n",
    "# around 120 secs to run\n",
    "\n",
    "ngram_df_entries = []\n",
    "\n",
    "for i in range(1,max_term_len+1):\n",
    "    for j in range(len(df)):\n",
    "        if j+i > len(df):\n",
    "            pass\n",
    "        n_gram = ' '.join(df.iloc[j: j+i][\"lemma\"])\n",
    "        if n_gram in terms_lexicon:\n",
    "            ngram_df_entries.append([j, n_gram, i])"
   ]
  },
  {
   "cell_type": "code",
   "execution_count": 12,
   "metadata": {},
   "outputs": [],
   "source": [
    "ngram_df = pd.DataFrame(columns=[\"starting_index\", \"ngram\", \"ngram_len\"], data=ngram_df_entries)"
   ]
  },
  {
   "cell_type": "code",
   "execution_count": 13,
   "metadata": {},
   "outputs": [
    {
     "output_type": "execute_result",
     "data": {
      "text/plain": [
       "       starting_index                                          ngram  \\\n",
       "0                   1                                       swimming   \n",
       "1                  80                                        swimmer   \n",
       "2                  92                                        swimmer   \n",
       "3                 112                                       swimming   \n",
       "4                 188                                  perfectionism   \n",
       "...               ...                                            ...   \n",
       "29571          151181             computation of lift and drag force   \n",
       "29572          172105             computation of lift and drag force   \n",
       "29573          230736  journal of strength and conditioning research   \n",
       "29574          272348  journal of strength and conditioning research   \n",
       "29575          273253  journal of strength and conditioning research   \n",
       "\n",
       "       ngram_len  \n",
       "0              1  \n",
       "1              1  \n",
       "2              1  \n",
       "3              1  \n",
       "4              1  \n",
       "...          ...  \n",
       "29571          6  \n",
       "29572          6  \n",
       "29573          6  \n",
       "29574          6  \n",
       "29575          6  \n",
       "\n",
       "[29576 rows x 3 columns]"
      ],
      "text/html": "<div>\n<style scoped>\n    .dataframe tbody tr th:only-of-type {\n        vertical-align: middle;\n    }\n\n    .dataframe tbody tr th {\n        vertical-align: top;\n    }\n\n    .dataframe thead th {\n        text-align: right;\n    }\n</style>\n<table border=\"1\" class=\"dataframe\">\n  <thead>\n    <tr style=\"text-align: right;\">\n      <th></th>\n      <th>starting_index</th>\n      <th>ngram</th>\n      <th>ngram_len</th>\n    </tr>\n  </thead>\n  <tbody>\n    <tr>\n      <th>0</th>\n      <td>1</td>\n      <td>swimming</td>\n      <td>1</td>\n    </tr>\n    <tr>\n      <th>1</th>\n      <td>80</td>\n      <td>swimmer</td>\n      <td>1</td>\n    </tr>\n    <tr>\n      <th>2</th>\n      <td>92</td>\n      <td>swimmer</td>\n      <td>1</td>\n    </tr>\n    <tr>\n      <th>3</th>\n      <td>112</td>\n      <td>swimming</td>\n      <td>1</td>\n    </tr>\n    <tr>\n      <th>4</th>\n      <td>188</td>\n      <td>perfectionism</td>\n      <td>1</td>\n    </tr>\n    <tr>\n      <th>...</th>\n      <td>...</td>\n      <td>...</td>\n      <td>...</td>\n    </tr>\n    <tr>\n      <th>29571</th>\n      <td>151181</td>\n      <td>computation of lift and drag force</td>\n      <td>6</td>\n    </tr>\n    <tr>\n      <th>29572</th>\n      <td>172105</td>\n      <td>computation of lift and drag force</td>\n      <td>6</td>\n    </tr>\n    <tr>\n      <th>29573</th>\n      <td>230736</td>\n      <td>journal of strength and conditioning research</td>\n      <td>6</td>\n    </tr>\n    <tr>\n      <th>29574</th>\n      <td>272348</td>\n      <td>journal of strength and conditioning research</td>\n      <td>6</td>\n    </tr>\n    <tr>\n      <th>29575</th>\n      <td>273253</td>\n      <td>journal of strength and conditioning research</td>\n      <td>6</td>\n    </tr>\n  </tbody>\n</table>\n<p>29576 rows × 3 columns</p>\n</div>"
     },
     "metadata": {},
     "execution_count": 13
    }
   ],
   "source": [
    "ngram_df"
   ]
  },
  {
   "cell_type": "code",
   "execution_count": 15,
   "metadata": {},
   "outputs": [],
   "source": [
    "# Filtering duplicates (keeping the biggest ngrams)\n",
    "\n",
    "ngram_df[\"is_duplicate\"] = ngram_df.duplicated(subset=\"starting_index\", keep='last')"
   ]
  },
  {
   "cell_type": "code",
   "execution_count": 16,
   "metadata": {},
   "outputs": [],
   "source": [
    "ngram_df = ngram_df.query('is_duplicate == False')"
   ]
  },
  {
   "cell_type": "code",
   "execution_count": 17,
   "metadata": {},
   "outputs": [
    {
     "output_type": "execute_result",
     "data": {
      "text/plain": [
       "       starting_index                                           ngram  \\\n",
       "1                  12                                       breathing   \n",
       "2                  16                                           issue   \n",
       "3                  23                                           frank   \n",
       "4                  25                                      abrahamsen   \n",
       "5                  30                                       norwegian   \n",
       "...               ...                                             ...   \n",
       "93018          225862                ratio of shoulder and hip flexor   \n",
       "93019          230736   journal of strength and conditioning research   \n",
       "93020          253970  epidemiology of injury and prevention strategy   \n",
       "93021          272348   journal of strength and conditioning research   \n",
       "93022          273253   journal of strength and conditioning research   \n",
       "\n",
       "       ngram_len  is_duplicate  \n",
       "1              1         False  \n",
       "2              1         False  \n",
       "3              1         False  \n",
       "4              1         False  \n",
       "5              1         False  \n",
       "...          ...           ...  \n",
       "93018          6         False  \n",
       "93019          6         False  \n",
       "93020          6         False  \n",
       "93021          6         False  \n",
       "93022          6         False  \n",
       "\n",
       "[79320 rows x 4 columns]"
      ],
      "text/html": "<div>\n<style scoped>\n    .dataframe tbody tr th:only-of-type {\n        vertical-align: middle;\n    }\n\n    .dataframe tbody tr th {\n        vertical-align: top;\n    }\n\n    .dataframe thead th {\n        text-align: right;\n    }\n</style>\n<table border=\"1\" class=\"dataframe\">\n  <thead>\n    <tr style=\"text-align: right;\">\n      <th></th>\n      <th>starting_index</th>\n      <th>ngram</th>\n      <th>ngram_len</th>\n      <th>is_duplicate</th>\n    </tr>\n  </thead>\n  <tbody>\n    <tr>\n      <th>1</th>\n      <td>12</td>\n      <td>breathing</td>\n      <td>1</td>\n      <td>False</td>\n    </tr>\n    <tr>\n      <th>2</th>\n      <td>16</td>\n      <td>issue</td>\n      <td>1</td>\n      <td>False</td>\n    </tr>\n    <tr>\n      <th>3</th>\n      <td>23</td>\n      <td>frank</td>\n      <td>1</td>\n      <td>False</td>\n    </tr>\n    <tr>\n      <th>4</th>\n      <td>25</td>\n      <td>abrahamsen</td>\n      <td>1</td>\n      <td>False</td>\n    </tr>\n    <tr>\n      <th>5</th>\n      <td>30</td>\n      <td>norwegian</td>\n      <td>1</td>\n      <td>False</td>\n    </tr>\n    <tr>\n      <th>...</th>\n      <td>...</td>\n      <td>...</td>\n      <td>...</td>\n      <td>...</td>\n    </tr>\n    <tr>\n      <th>93018</th>\n      <td>225862</td>\n      <td>ratio of shoulder and hip flexor</td>\n      <td>6</td>\n      <td>False</td>\n    </tr>\n    <tr>\n      <th>93019</th>\n      <td>230736</td>\n      <td>journal of strength and conditioning research</td>\n      <td>6</td>\n      <td>False</td>\n    </tr>\n    <tr>\n      <th>93020</th>\n      <td>253970</td>\n      <td>epidemiology of injury and prevention strategy</td>\n      <td>6</td>\n      <td>False</td>\n    </tr>\n    <tr>\n      <th>93021</th>\n      <td>272348</td>\n      <td>journal of strength and conditioning research</td>\n      <td>6</td>\n      <td>False</td>\n    </tr>\n    <tr>\n      <th>93022</th>\n      <td>273253</td>\n      <td>journal of strength and conditioning research</td>\n      <td>6</td>\n      <td>False</td>\n    </tr>\n  </tbody>\n</table>\n<p>79320 rows × 4 columns</p>\n</div>"
     },
     "metadata": {},
     "execution_count": 17
    }
   ],
   "source": [
    "ngram_df"
   ]
  },
  {
   "cell_type": "code",
   "execution_count": 18,
   "metadata": {},
   "outputs": [],
   "source": [
    "for index, row in ngram_df.iterrows():\n",
    "    for i in range(row.ngram_len):\n",
    "        if i==0:\n",
    "            tag = \"B\"\n",
    "        else:\n",
    "            tag = \"I\"\n",
    "        df.at[row.starting_index+i,\"tag\"] = tag"
   ]
  },
  {
   "source": [
    "## Exploration, saving, splitting dataset"
   ],
   "cell_type": "markdown",
   "metadata": {}
  },
  {
   "cell_type": "code",
   "execution_count": 19,
   "metadata": {},
   "outputs": [
    {
     "output_type": "execute_result",
     "data": {
      "text/plain": [
       "O    186547\n",
       "B     62935\n",
       "I     27956\n",
       "Name: tag, dtype: int64"
      ]
     },
     "metadata": {},
     "execution_count": 19
    }
   ],
   "source": [
    "df.tag.value_counts()"
   ]
  },
  {
   "cell_type": "code",
   "execution_count": 20,
   "metadata": {},
   "outputs": [
    {
     "output_type": "execute_result",
     "data": {
      "text/plain": [
       "             token       lemma tag\n",
       "1         Swimming    swimming   B\n",
       "12       Breathing   breathing   B\n",
       "16           Issue       issue   B\n",
       "23           Frank       frank   B\n",
       "25      Abrahamsen  abrahamsen   B\n",
       "...            ...         ...  ..\n",
       "291011     October     october   B\n",
       "291019    Richards    richards   B\n",
       "291022   Reduction   reduction   B\n",
       "291024    Swimming    swimming   B\n",
       "291029       Taper       taper   B\n",
       "\n",
       "[62935 rows x 3 columns]"
      ],
      "text/html": "<div>\n<style scoped>\n    .dataframe tbody tr th:only-of-type {\n        vertical-align: middle;\n    }\n\n    .dataframe tbody tr th {\n        vertical-align: top;\n    }\n\n    .dataframe thead th {\n        text-align: right;\n    }\n</style>\n<table border=\"1\" class=\"dataframe\">\n  <thead>\n    <tr style=\"text-align: right;\">\n      <th></th>\n      <th>token</th>\n      <th>lemma</th>\n      <th>tag</th>\n    </tr>\n  </thead>\n  <tbody>\n    <tr>\n      <th>1</th>\n      <td>Swimming</td>\n      <td>swimming</td>\n      <td>B</td>\n    </tr>\n    <tr>\n      <th>12</th>\n      <td>Breathing</td>\n      <td>breathing</td>\n      <td>B</td>\n    </tr>\n    <tr>\n      <th>16</th>\n      <td>Issue</td>\n      <td>issue</td>\n      <td>B</td>\n    </tr>\n    <tr>\n      <th>23</th>\n      <td>Frank</td>\n      <td>frank</td>\n      <td>B</td>\n    </tr>\n    <tr>\n      <th>25</th>\n      <td>Abrahamsen</td>\n      <td>abrahamsen</td>\n      <td>B</td>\n    </tr>\n    <tr>\n      <th>...</th>\n      <td>...</td>\n      <td>...</td>\n      <td>...</td>\n    </tr>\n    <tr>\n      <th>291011</th>\n      <td>October</td>\n      <td>october</td>\n      <td>B</td>\n    </tr>\n    <tr>\n      <th>291019</th>\n      <td>Richards</td>\n      <td>richards</td>\n      <td>B</td>\n    </tr>\n    <tr>\n      <th>291022</th>\n      <td>Reduction</td>\n      <td>reduction</td>\n      <td>B</td>\n    </tr>\n    <tr>\n      <th>291024</th>\n      <td>Swimming</td>\n      <td>swimming</td>\n      <td>B</td>\n    </tr>\n    <tr>\n      <th>291029</th>\n      <td>Taper</td>\n      <td>taper</td>\n      <td>B</td>\n    </tr>\n  </tbody>\n</table>\n<p>62935 rows × 3 columns</p>\n</div>"
     },
     "metadata": {},
     "execution_count": 20
    }
   ],
   "source": [
    "df.query('tag==\"B\"')"
   ]
  },
  {
   "cell_type": "code",
   "execution_count": 57,
   "metadata": {},
   "outputs": [],
   "source": [
    "train_len = int(len(df)/100*90)\n",
    "dev_len = train_len+int(len(df)/100*5)\n",
    "\n",
    "df.iloc[:train_len].to_csv(\"../corpus_bio/train.txt\", sep=\" \", header=False, index=False, columns=[\"token\", \"tag\"])\n",
    "df.iloc[train_len:dev_len].to_csv(\"../corpus_bio/dev.txt\", sep=\" \", header=False, index=False, columns=[\"token\", \"tag\"])\n",
    "df.iloc[dev_len:].to_csv(\"../corpus_bio/test.txt\", sep=\" \", header=False, index=False, columns=[\"token\", \"tag\"])"
   ]
  }
 ]
}