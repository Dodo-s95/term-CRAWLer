{
 "metadata": {
  "language_info": {
   "codemirror_mode": {
    "name": "ipython",
    "version": 3
   },
   "file_extension": ".py",
   "mimetype": "text/x-python",
   "name": "python",
   "nbconvert_exporter": "python",
   "pygments_lexer": "ipython3",
   "version": "3.8.0-final"
  },
  "orig_nbformat": 2,
  "kernelspec": {
   "name": "python38064bitterminologycondaef931532d8e947c7a884074a14664a41",
   "display_name": "Python 3.8.0 64-bit ('terminology': conda)"
  }
 },
 "nbformat": 4,
 "nbformat_minor": 2,
 "cells": [
  {
   "cell_type": "code",
   "execution_count": 1,
   "metadata": {},
   "outputs": [],
   "source": [
    "import pandas as pd\n",
    "\n",
    "import spacy\n",
    "import glob\n",
    "\n",
    "from spacy.lang.char_classes import ALPHA, ALPHA_LOWER, ALPHA_UPPER\n",
    "from spacy.lang.char_classes import CONCAT_QUOTES, LIST_ELLIPSES, LIST_ICONS\n",
    "from spacy.util import compile_infix_regex\n",
    "\n",
    "from tqdm import tqdm"
   ]
  },
  {
   "source": [
    "## Cleaning process of extracted terms"
   ],
   "cell_type": "markdown",
   "metadata": {}
  },
  {
   "cell_type": "code",
   "execution_count": 2,
   "metadata": {},
   "outputs": [],
   "source": [
    "nlp = spacy.load(\"en_core_web_sm\")\n",
    "\n",
    "# modify tokenizer infix patterns for avoiding hyphenated words being split (several terms are hyphenated)\n",
    "\n",
    "infixes = (\n",
    "    LIST_ELLIPSES\n",
    "    + LIST_ICONS\n",
    "    + [\n",
    "        r\"(?<=[0-9])[+\\-\\*^](?=[0-9-])\",\n",
    "        r\"(?<=[{al}{q}])\\.(?=[{au}{q}])\".format(\n",
    "            al=ALPHA_LOWER, au=ALPHA_UPPER, q=CONCAT_QUOTES\n",
    "        ),\n",
    "        r\"(?<=[{a}]),(?=[{a}])\".format(a=ALPHA),\n",
    "        r\"(?<=[{a}0-9])[:<>=/](?=[{a}])\".format(a=ALPHA),\n",
    "    ]\n",
    ")\n",
    "\n",
    "infix_re = compile_infix_regex(infixes)\n",
    "nlp.tokenizer.infix_finditer = infix_re.finditer\n",
    "\n",
    "nlp.max_length = 1500000"
   ]
  },
  {
   "cell_type": "code",
   "execution_count": 3,
   "metadata": {},
   "outputs": [
    {
     "output_type": "stream",
     "name": "stderr",
     "text": [
      "69it [00:26,  2.65it/s]\n"
     ]
    }
   ],
   "source": [
    "# we let spaCy extract NEs. we create a set with them that will be used to clean the extracted terms\n",
    "\n",
    "ners = set()\n",
    "\n",
    "for txt in tqdm(glob.iglob(\"../corpus_txt/*.txt\")):\n",
    "    with open(txt, \"r\", encoding=\"utf-8\") as f:\n",
    "        txt = f.readlines()[0]\n",
    "        doc = nlp(txt)\n",
    "        local_ners = doc.ents\n",
    "        str_ners = [el.text.lower() for el in local_ners]\n",
    "        ners.update(set(str_ners))"
   ]
  },
  {
   "cell_type": "code",
   "execution_count": 4,
   "metadata": {},
   "outputs": [],
   "source": [
    "extract = pd.read_csv('../extraction/swimming-terms_spec_top3k.tsv', sep='\\t')\n",
    "extract.key = extract.key.apply(lambda x: x.split(':')[1][1:])\n",
    "extract.drop_duplicates(subset=\"key\", keep='first', inplace=True) # remove duplicates"
   ]
  },
  {
   "cell_type": "code",
   "execution_count": 5,
   "metadata": {},
   "outputs": [],
   "source": [
    "clean_extract = extract[~extract[\"key\"].isin(ners)] # remove NEs"
   ]
  },
  {
   "cell_type": "code",
   "execution_count": 6,
   "metadata": {},
   "outputs": [
    {
     "output_type": "execute_result",
     "data": {
      "text/plain": [
       "         #  type                             key  freq\n",
       "0        1     T                       asymmetry   409\n",
       "1        2     T                    muscle fiber   329\n",
       "2        2  V[s]                ftx muscle fiber    24\n",
       "3        2  V[s]                 st muscle fiber     7\n",
       "4        2  V[s]               muscle fiber type    18\n",
       "...    ...   ...                             ...   ...\n",
       "3318  2996     T                  sum of reading     2\n",
       "3319  2997     T            olympic-gold-medal -     2\n",
       "3320  2998     T  energetically efficient manner     2\n",
       "3321  2999     T                 usa cdepartment     2\n",
       "3322  3000     T      individual swimming stroke     2\n",
       "\n",
       "[2690 rows x 4 columns]"
      ],
      "text/html": "<div>\n<style scoped>\n    .dataframe tbody tr th:only-of-type {\n        vertical-align: middle;\n    }\n\n    .dataframe tbody tr th {\n        vertical-align: top;\n    }\n\n    .dataframe thead th {\n        text-align: right;\n    }\n</style>\n<table border=\"1\" class=\"dataframe\">\n  <thead>\n    <tr style=\"text-align: right;\">\n      <th></th>\n      <th>#</th>\n      <th>type</th>\n      <th>key</th>\n      <th>freq</th>\n    </tr>\n  </thead>\n  <tbody>\n    <tr>\n      <th>0</th>\n      <td>1</td>\n      <td>T</td>\n      <td>asymmetry</td>\n      <td>409</td>\n    </tr>\n    <tr>\n      <th>1</th>\n      <td>2</td>\n      <td>T</td>\n      <td>muscle fiber</td>\n      <td>329</td>\n    </tr>\n    <tr>\n      <th>2</th>\n      <td>2</td>\n      <td>V[s]</td>\n      <td>ftx muscle fiber</td>\n      <td>24</td>\n    </tr>\n    <tr>\n      <th>3</th>\n      <td>2</td>\n      <td>V[s]</td>\n      <td>st muscle fiber</td>\n      <td>7</td>\n    </tr>\n    <tr>\n      <th>4</th>\n      <td>2</td>\n      <td>V[s]</td>\n      <td>muscle fiber type</td>\n      <td>18</td>\n    </tr>\n    <tr>\n      <th>...</th>\n      <td>...</td>\n      <td>...</td>\n      <td>...</td>\n      <td>...</td>\n    </tr>\n    <tr>\n      <th>3318</th>\n      <td>2996</td>\n      <td>T</td>\n      <td>sum of reading</td>\n      <td>2</td>\n    </tr>\n    <tr>\n      <th>3319</th>\n      <td>2997</td>\n      <td>T</td>\n      <td>olympic-gold-medal -</td>\n      <td>2</td>\n    </tr>\n    <tr>\n      <th>3320</th>\n      <td>2998</td>\n      <td>T</td>\n      <td>energetically efficient manner</td>\n      <td>2</td>\n    </tr>\n    <tr>\n      <th>3321</th>\n      <td>2999</td>\n      <td>T</td>\n      <td>usa cdepartment</td>\n      <td>2</td>\n    </tr>\n    <tr>\n      <th>3322</th>\n      <td>3000</td>\n      <td>T</td>\n      <td>individual swimming stroke</td>\n      <td>2</td>\n    </tr>\n  </tbody>\n</table>\n<p>2690 rows × 4 columns</p>\n</div>"
     },
     "metadata": {},
     "execution_count": 6
    }
   ],
   "source": [
    "clean_extract"
   ]
  },
  {
   "cell_type": "code",
   "execution_count": 7,
   "metadata": {},
   "outputs": [],
   "source": [
    "# Adding a placeholder for evaluation\n",
    "# (FALSE means un-thicked box in excel)\n",
    "# used for later manual checking\n",
    "\n",
    "clean_extract['evaluation'] = 'FALSE'"
   ]
  },
  {
   "cell_type": "code",
   "execution_count": 9,
   "metadata": {},
   "outputs": [],
   "source": [
    "# export csv to be manually validated\n",
    "\n",
    "clean_extract[['key','evaluation']].to_csv('../evaluation/extraction.csv', index=False, header=['candidate','evaluation'])"
   ]
  },
  {
   "cell_type": "code",
   "execution_count": null,
   "metadata": {},
   "outputs": [],
   "source": []
  }
 ]
}