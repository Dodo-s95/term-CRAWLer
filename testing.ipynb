{
 "metadata": {
  "language_info": {
   "codemirror_mode": {
    "name": "ipython",
    "version": 3
   },
   "file_extension": ".py",
   "mimetype": "text/x-python",
   "name": "python",
   "nbconvert_exporter": "python",
   "pygments_lexer": "ipython3",
   "version": "3.7.0-final"
  },
  "orig_nbformat": 2,
  "kernelspec": {
   "name": "python3",
   "display_name": "Python 3.7.0 64-bit ('term': conda)",
   "metadata": {
    "interpreter": {
     "hash": "15efb78afde094de2aecb15885b36e7079f95153fc5ebe3e405f9ac01beb2def"
    }
   }
  }
 },
 "nbformat": 4,
 "nbformat_minor": 2,
 "cells": [
  {
   "cell_type": "code",
   "execution_count": 2,
   "metadata": {},
   "outputs": [],
   "source": [
    "from flair.data import Sentence\n",
    "from flair.models import SequenceTagger\n",
    "from rule_based_tagger import *"
   ]
  },
  {
   "cell_type": "code",
   "execution_count": 3,
   "metadata": {},
   "outputs": [],
   "source": [
    "# case study text (never seen by none of the taggers)\n",
    "\n",
    "text = '''Coaches play a key role in the concussion management team in recognizing and removing student-athletes from play, as they are on the frontline and often closest to the student-athletes. Youth and club sports are unique in that there are few states in the United States that require coaches to receive formal concussion education when compared to high school or collegiate levels. Though concussions occur less frequently in swimming, knowledge and understanding is nonetheless important. This study examines USA Swim Coaches’ current knowledge, perceived knowledge, and confidence in knowledge of several topics related to sport-related concussion. USA Swimming coaches were surveyed through email. The survey consisted of 5 sections: knowledge, athletic trainer collaboration, established relationships with healthcare providers, academic adjustments, and demographics. Club swim coaches (n=547) accessed and completed at least one part of the survey. Most importantly we found that club swim coaches who had prior concussion education were more knowledgeable in various sport-related concussion topics which shows that the positive impact of concussion education should extend to youth club sports and require that all youth sport coaches receive concussion education. Additionally, club swim coaches with access to an athletic trainer had higher perceived knowledge and confidence in their knowledge, suggesting that access to an athletic trainer may be valuable in not only providing athletic training services, but also sharing concussion knowledge with coaches and others with whom they interact and communicate regularly. We have made several recommendations in order to assist coaches with proper management of sport-related concussion.'''"
   ]
  },
  {
   "cell_type": "code",
   "execution_count": 5,
   "metadata": {},
   "outputs": [
    {
     "output_type": "stream",
     "name": "stdout",
     "text": [
      "2020-11-21 17:00:49,710 loading file ../resources/taggers/bio-term-tagger/best-model.pt\n"
     ]
    }
   ],
   "source": [
    "# load neural best model\n",
    "model = SequenceTagger.load('../resources/taggers/bio-term-tagger/best-model.pt')\n",
    "\n",
    "# prepare case study text\n",
    "sentence = Sentence(text)\n",
    "\n",
    "# predict tags and print\n",
    "model.predict(sentence)"
   ]
  },
  {
   "cell_type": "code",
   "execution_count": 6,
   "metadata": {},
   "outputs": [
    {
     "output_type": "stream",
     "name": "stdout",
     "text": [
      "Coaches play a key role in the concussion management team in recognizing and removing student-athletes from play , as they are on the frontline and often closest to the student-athletes . Youth and club sports are unique in that there are few states in the United States that require coaches to receive formal concussion education when compared to high school or collegiate levels . Though concussions occur less frequently in swimming , knowledge and understanding is nonetheless important . This study examines USA Swim Coaches ’ current knowledge , perceived knowledge , and confidence in knowledge of several topics related to sport-related concussion . USA <B> Swimming <I> coaches <I> were surveyed through email . The survey consisted of 5 sections : knowledge , athletic <B> trainer <I> collaboration , established relationships with healthcare providers , academic adjustments , and demographics <B> . Club swim <B> coaches <I> ( n=547 ) accessed and completed at least one part of the survey . Most importantly we found that club swim <B> coaches <I> who had prior concussion education were more knowledgeable in various sport-related concussion topics which shows that the positive impact of concussion education should extend to youth club sports and require that all youth sport coaches receive concussion education . Additionally , club swim <B> coaches <I> with access to an athletic <B> trainer <I> had higher perceived knowledge and confidence in their knowledge , suggesting that access to an athletic <B> trainer <I> may be valuable in not only providing athletic training services , but also sharing concussion knowledge with coaches and others with whom they interact and communicate regularly . We have made several recommendations in order to assist coaches with proper management of sport-related concussion .\n"
     ]
    }
   ],
   "source": [
    "## RULE-BASED TAGGER RESULTS\n",
    "\n",
    "print(rule_based_tagger(text))"
   ]
  },
  {
   "cell_type": "code",
   "execution_count": 7,
   "metadata": {},
   "outputs": [
    {
     "output_type": "stream",
     "name": "stdout",
     "text": [
      "Coaches play a key role in the concussion management team in recognizing and removing student-athletes from play , as they are on the frontline and often closest to the student-athletes . Youth and club sports are unique in that there are few states in the United States that require coaches to receive formal concussion education when compared to high school or collegiate <B> levels <I> . Though concussions occur less frequently in swimming , knowledge and understanding is nonetheless important . This study examines USA Swim Coaches’ current knowledge , perceived knowledge , and confidence in knowledge of several topics related to sport-related concussion . USA <B> Swimming <I> coaches <I> were surveyed through email . The survey consisted of 5 sections : knowledge , athletic trainer collaboration , established relationships with healthcare providers , academic adjustments , and demographics . Club swim <B> coaches <I> ( n = 547 ) accessed and completed at least one part of the survey . Most importantly we found that club swim <B> coaches <I> who had prior concussion education were more knowledgeable in various sport-related concussion topics which shows that the positive impact of concussion education should extend to youth club sports and require that all youth <B> sport <I> coaches <I> receive concussion education . Additionally , club swim <B> coaches <I> with access to an athletic <B> trainer <I> had higher perceived knowledge and confidence in their knowledge , suggesting that access to an athletic <B> trainer <I> may be valuable in not only providing athletic <B> training <I> services <I> , but also sharing concussion knowledge with coaches and others with whom they interact and communicate regularly . We have made several recommendations in order to assist coaches with proper management of sport-related concussion .\n"
     ]
    }
   ],
   "source": [
    "## NEURAL TAGGER RESULTS\n",
    "\n",
    "print(sentence.to_tagged_string())"
   ]
  },
  {
   "cell_type": "code",
   "execution_count": null,
   "metadata": {},
   "outputs": [],
   "source": []
  }
 ]
}